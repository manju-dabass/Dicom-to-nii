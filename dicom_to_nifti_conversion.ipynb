{
  "nbformat": 4,
  "nbformat_minor": 0,
  "metadata": {
    "colab": {
      "provenance": [],
      "include_colab_link": true
    },
    "kernelspec": {
      "name": "python3",
      "display_name": "Python 3"
    },
    "language_info": {
      "name": "python"
    }
  },
  "cells": [
    {
      "cell_type": "markdown",
      "metadata": {
        "id": "view-in-github",
        "colab_type": "text"
      },
      "source": [
        "<a href=\"https://colab.research.google.com/github/manju-dabass/Dicom-to-nii/blob/main/dicom_to_nifti_conversion.ipynb\" target=\"_parent\"><img src=\"https://colab.research.google.com/assets/colab-badge.svg\" alt=\"Open In Colab\"/></a>"
      ]
    },
    {
      "cell_type": "code",
      "execution_count": null,
      "metadata": {
        "id": "1iiWmfG12XKn"
      },
      "outputs": [],
      "source": [
        "! pip install dicom2nifti"
      ]
    },
    {
      "cell_type": "code",
      "source": [
        "import dicom2nifti"
      ],
      "metadata": {
        "id": "HjkCdCzs4X6c"
      },
      "execution_count": null,
      "outputs": []
    },
    {
      "cell_type": "code",
      "source": [
        "import os\n",
        "! pip install nibabel\n",
        "import pydicom as dicom\n",
        "import nibabel"
      ],
      "metadata": {
        "id": "FFxm4In65E-n"
      },
      "execution_count": null,
      "outputs": []
    },
    {
      "cell_type": "code",
      "source": [
        "path_to_dicom_series = '\\content\\drive\\MyDrive\\dicom_files\\*' #source directory containing dicom files\n",
        "converted_nii_filepath = '\\content\\drive\\MyDrive\\nii_files' #destination folder for storing nifti files"
      ],
      "metadata": {
        "id": "aX3PgqN8Ai_C"
      },
      "execution_count": null,
      "outputs": []
    },
    {
      "cell_type": "markdown",
      "source": [
        "Converting dicom into nii.gz format"
      ],
      "metadata": {
        "id": "y559EUX2NY2f"
      }
    },
    {
      "cell_type": "code",
      "source": [
        "#dicom2nifti.convert_directory(path_to_dicom_series,converted_nii_filepath)\n",
        "import glob as glob\n",
        "for i, patient in enumerate(glob(path_to_dicom_series)):\n",
        "    dicom2nifti.dicom_series_to_nifti(patient,os.path.join(converted_nii_filepath,'LIDC-IDRI-000'+str(i+1)+'.nii'))\n"
      ],
      "metadata": {
        "id": "dFusolMqEk5P"
      },
      "execution_count": null,
      "outputs": []
    },
    {
      "cell_type": "markdown",
      "source": [
        "displaying dicom image slice"
      ],
      "metadata": {
        "id": "0d_kx6ATNRsj"
      }
    },
    {
      "cell_type": "code",
      "source": [
        "import matplotlib.pyplot as plt\n",
        "import pydicom\n",
        "import pydicom.data\n",
        "  \n",
        "# Full path of the DICOM file is passed in base\n",
        "base = r\"/content/drive/MyDrive/dicom_files/ID00419637202311204720264\"\n",
        "pass_dicom = \"1.dcm\"  # file name is 1-12.dcm\n",
        "  \n",
        "# enter DICOM image name for pattern\n",
        "# result is a list of 1 element\n",
        "filename = pydicom.data.data_manager.get_files(base, pass_dicom)[0]\n",
        "  \n",
        "ds = pydicom.dcmread(filename)\n",
        "  \n",
        "plt.imshow(ds.pixel_array, cmap=plt.cm.bone)  # set the color map to bone\n",
        "plt.show()"
      ],
      "metadata": {
        "id": "QnKT-UJ_IZls"
      },
      "execution_count": null,
      "outputs": []
    },
    {
      "cell_type": "code",
      "source": [
        "import nibabel as nib\n",
        "import numpy as np\n",
        "import matplotlib.pyplot as plt\n"
      ],
      "metadata": {
        "id": "JG2yaKUwFxgk"
      },
      "execution_count": null,
      "outputs": []
    },
    {
      "cell_type": "markdown",
      "source": [
        "displaying nii image slice"
      ],
      "metadata": {
        "id": "q-W11jjeNC0Y"
      }
    },
    {
      "cell_type": "code",
      "source": [
        "test_load = nib.load('/content/drive/MyDrive/nii_files/22572922870310959542985933229225637751168.nii.gz').get_fdata()\n",
        "test_load.shape"
      ],
      "metadata": {
        "id": "NDidbnNDLzIZ"
      },
      "execution_count": null,
      "outputs": []
    },
    {
      "cell_type": "code",
      "source": [
        "test = test_load[:,:,13]\n",
        "plt.imshow(test)\n",
        "plt.show()"
      ],
      "metadata": {
        "id": "fMs3Ez6CL6eT"
      },
      "execution_count": null,
      "outputs": []
    }
  ]
}